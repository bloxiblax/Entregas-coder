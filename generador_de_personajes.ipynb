{
  "nbformat": 4,
  "nbformat_minor": 0,
  "metadata": {
    "colab": {
      "provenance": []
    },
    "kernelspec": {
      "name": "python3",
      "display_name": "Python 3"
    },
    "language_info": {
      "name": "python"
    }
  },
  "cells": [
    {
      "cell_type": "markdown",
      "source": [],
      "metadata": {
        "id": "otlYtdiDI5um"
      }
    },
    {
      "cell_type": "markdown",
      "source": [
        "**Segunda entrega de proyecto**\n",
        "\n",
        "**curso:** generacion de prompts\n",
        "\n",
        "**Comisión **65805\n",
        "\n",
        "**alumno:** Maximiliano Bellmann Eguiguren\n",
        "\n",
        "**Proyecto** Generacion de imagenes de referencia para diseño de personajes\n",
        "\n"
      ],
      "metadata": {
        "id": "DFy40xLpTZ8c"
      }
    },
    {
      "cell_type": "markdown",
      "source": [
        "# paso 1 instalar openai"
      ],
      "metadata": {
        "id": "vVsAaGWrIpHC"
      }
    },
    {
      "cell_type": "markdown",
      "source": [],
      "metadata": {
        "id": "zrT_bxFSTRRV"
      }
    },
    {
      "cell_type": "code",
      "source": [
        "# @title\n",
        "!pip install openai==0.28"
      ],
      "metadata": {
        "colab": {
          "base_uri": "https://localhost:8080/"
        },
        "id": "MaJ1m76LIKVQ",
        "outputId": "1357a4de-f6b5-4dd8-9108-1ad6078eee3a"
      },
      "execution_count": 29,
      "outputs": [
        {
          "output_type": "stream",
          "name": "stdout",
          "text": [
            "Requirement already satisfied: openai==0.28 in /usr/local/lib/python3.10/dist-packages (0.28.0)\n",
            "Requirement already satisfied: requests>=2.20 in /usr/local/lib/python3.10/dist-packages (from openai==0.28) (2.31.0)\n",
            "Requirement already satisfied: tqdm in /usr/local/lib/python3.10/dist-packages (from openai==0.28) (4.66.2)\n",
            "Requirement already satisfied: aiohttp in /usr/local/lib/python3.10/dist-packages (from openai==0.28) (3.9.3)\n",
            "Requirement already satisfied: charset-normalizer<4,>=2 in /usr/local/lib/python3.10/dist-packages (from requests>=2.20->openai==0.28) (3.3.2)\n",
            "Requirement already satisfied: idna<4,>=2.5 in /usr/local/lib/python3.10/dist-packages (from requests>=2.20->openai==0.28) (3.6)\n",
            "Requirement already satisfied: urllib3<3,>=1.21.1 in /usr/local/lib/python3.10/dist-packages (from requests>=2.20->openai==0.28) (2.0.7)\n",
            "Requirement already satisfied: certifi>=2017.4.17 in /usr/local/lib/python3.10/dist-packages (from requests>=2.20->openai==0.28) (2024.2.2)\n",
            "Requirement already satisfied: aiosignal>=1.1.2 in /usr/local/lib/python3.10/dist-packages (from aiohttp->openai==0.28) (1.3.1)\n",
            "Requirement already satisfied: attrs>=17.3.0 in /usr/local/lib/python3.10/dist-packages (from aiohttp->openai==0.28) (23.2.0)\n",
            "Requirement already satisfied: frozenlist>=1.1.1 in /usr/local/lib/python3.10/dist-packages (from aiohttp->openai==0.28) (1.4.1)\n",
            "Requirement already satisfied: multidict<7.0,>=4.5 in /usr/local/lib/python3.10/dist-packages (from aiohttp->openai==0.28) (6.0.5)\n",
            "Requirement already satisfied: yarl<2.0,>=1.0 in /usr/local/lib/python3.10/dist-packages (from aiohttp->openai==0.28) (1.9.4)\n",
            "Requirement already satisfied: async-timeout<5.0,>=4.0 in /usr/local/lib/python3.10/dist-packages (from aiohttp->openai==0.28) (4.0.3)\n"
          ]
        }
      ]
    },
    {
      "cell_type": "code",
      "source": [
        "# @title\n",
        "#2 importar api"
      ],
      "metadata": {
        "id": "ubysnh69IPmI"
      },
      "execution_count": null,
      "outputs": []
    },
    {
      "cell_type": "code",
      "source": [
        "# @title\n",
        "#import openai\n",
        "#openai.api_key = \"\""
      ],
      "metadata": {
        "id": "6S_Gl6FRJIQ3"
      },
      "execution_count": 2,
      "outputs": []
    },
    {
      "cell_type": "markdown",
      "source": [
        "# paso 3 crear la solicitud"
      ],
      "metadata": {
        "id": "lphwGNqUJDF7"
      }
    },
    {
      "cell_type": "code",
      "source": [
        "# @title\n",
        "caracteristicas = input(\"describe tu personaje\")\n",
        "\n",
        "prompt = \"describe un personaje de video juegos\""
      ],
      "metadata": {
        "id": "OtFXcqpvJ0i_",
        "colab": {
          "base_uri": "https://localhost:8080/"
        },
        "outputId": "315cd051-a42a-49b8-8ce8-5293bb05cee4"
      },
      "execution_count": 24,
      "outputs": [
        {
          "name": "stdout",
          "output_type": "stream",
          "text": [
            "describe tu personajeun enano con un hacha que vive en el bosque\n"
          ]
        }
      ]
    },
    {
      "cell_type": "markdown",
      "source": [
        "# paso 4 configurar prompt"
      ],
      "metadata": {
        "id": "PF9GWxvsLXTn"
      }
    },
    {
      "cell_type": "code",
      "source": [
        "# @title\n",
        "conversation = [\n",
        "    {\"role\": \"system\", \"content\": caracteristicas},\n",
        "    {\"role\": \"user\", \"content\": prompt}\n",
        "]\n",
        "\n",
        "response = openai.ChatCompletion.create(\n",
        "    model='gpt-3.5-turbo',\n",
        "    messages=conversation,\n",
        "    max_tokens=100\n",
        ")\n",
        "\n",
        "message = response.choices[0]['message']\n",
        "print(\"{}: {}\".format(message['role'], message['content']))"
      ],
      "metadata": {
        "colab": {
          "base_uri": "https://localhost:8080/"
        },
        "id": "lhyFYQ8dLdEj",
        "outputId": "13444026-b77e-4431-db59-fab7c60a6e8c"
      },
      "execution_count": 25,
      "outputs": [
        {
          "output_type": "stream",
          "name": "stdout",
          "text": [
            "assistant: Claro, aquí tienes:\n",
            "\n",
            "Nombre: Dwar\n",
            "Raza: Enano\n",
            "Género: Masculino\n",
            "Clase: Guerrero\n",
            "Arma: Hacha\n",
            "Localización: Bosque mágico\n",
            "\n",
            "Descripción:\n",
            "Dwar es un enano valiente y temerario que ha vivido en el bosque durante años. Con su hacha afilada y su habilidad en combate, es un guerrero formidable que protege su hogar de cualquier amen\n"
          ]
        }
      ]
    },
    {
      "cell_type": "markdown",
      "source": [
        "# paso 5 almacenar el resultado en una variable"
      ],
      "metadata": {
        "id": "XtJneCN386d1"
      }
    },
    {
      "cell_type": "code",
      "source": [
        "# @title\n",
        "#Storage the response in a variable to use it\n",
        "personaje = response['choices'][0]['message']['content'].strip()\n",
        "\n",
        "#Use the variable\n",
        "print(\"personaje creado:\", personaje)"
      ],
      "metadata": {
        "colab": {
          "base_uri": "https://localhost:8080/"
        },
        "id": "JS3od2Yc9GFi",
        "outputId": "ac32205b-28f2-4064-c220-b9f57d1c39dd",
        "cellView": "form"
      },
      "execution_count": 26,
      "outputs": [
        {
          "output_type": "stream",
          "name": "stdout",
          "text": [
            "personaje creado: Claro, aquí tienes:\n",
            "\n",
            "Nombre: Dwar\n",
            "Raza: Enano\n",
            "Género: Masculino\n",
            "Clase: Guerrero\n",
            "Arma: Hacha\n",
            "Localización: Bosque mágico\n",
            "\n",
            "Descripción:\n",
            "Dwar es un enano valiente y temerario que ha vivido en el bosque durante años. Con su hacha afilada y su habilidad en combate, es un guerrero formidable que protege su hogar de cualquier amen\n"
          ]
        }
      ]
    },
    {
      "cell_type": "markdown",
      "source": [],
      "metadata": {
        "id": "AqPP-ts-9jnM"
      }
    },
    {
      "cell_type": "markdown",
      "source": [
        "# paso 6 procesar el prompt como imagen"
      ],
      "metadata": {
        "id": "EPTU3Vsu9joz"
      }
    },
    {
      "cell_type": "code",
      "source": [
        "# @title\n",
        "# Now use story_made as the context for a new prompt\n",
        "process_text_to_image = personaje\n",
        "\n",
        "# Add the new user message with ambiente as the context\n",
        "conversation.append({\"role\": \"user\", \"content\": process_text_to_image})\n",
        "\n",
        "# Make the request for the new prompt\n",
        "response = openai.ChatCompletion.create(\n",
        "    model='gpt-3.5-turbo',\n",
        "    messages=conversation,\n",
        "    max_tokens=500\n",
        ")\n",
        "\n",
        "# Get and print the new story\n",
        "img_prompt = response['choices'][0]['message']['content'].strip()\n",
        "print(\"Prompt personaje:\", img_prompt)"
      ],
      "metadata": {
        "colab": {
          "base_uri": "https://localhost:8080/"
        },
        "id": "OHItUQ-X-bIL",
        "outputId": "982f3209-cb56-4e88-d057-1bf636a9f500"
      },
      "execution_count": 27,
      "outputs": [
        {
          "output_type": "stream",
          "name": "stdout",
          "text": [
            "Prompt personaje: aza que se interponga en su camino. Su armadura hecha de pieles de bestias y su barba larga y trenzada dan cuenta de sus años de experiencia en batalla. Dwar es respetado por los habitantes del bosque por su lealtad y valentía, y se ha convertido en una leyenda entre los aventureros que se atreven a explorar la región. ¡Prepárate para un desafío épico si te encuentras con Dwar en tu camino!\n"
          ]
        }
      ]
    },
    {
      "cell_type": "markdown",
      "source": [
        " # paso 7 crear la imagen"
      ],
      "metadata": {
        "id": "DmZGPKBjAmR5"
      }
    },
    {
      "cell_type": "code",
      "source": [
        "# @title\n",
        "# Now use story_made as the context for a new prompt\n",
        "personaje = f\"en base a la siguiente descripcion genera un personaje grafico: {img_prompt}\"\n",
        "\n",
        "# Add the new user message with the image prompt\n",
        "conversation.append({\"role\": \"user\", \"content\": personaje})\n",
        "\n",
        "# Make the request for the image prompt\n",
        "image_response = openai.Image.create(\n",
        "    prompt=personaje,\n",
        "    n=1,\n",
        "    size=\"1024x1024\"\n",
        ")\n",
        "\n",
        "# Get and print the generated image URL\n",
        "print(image_response['data'][0]['url'])"
      ],
      "metadata": {
        "colab": {
          "base_uri": "https://localhost:8080/"
        },
        "id": "XBK-wiQwApf5",
        "outputId": "66479105-8c8d-4ef7-c326-2d94de1f63b5"
      },
      "execution_count": 28,
      "outputs": [
        {
          "output_type": "stream",
          "name": "stdout",
          "text": [
            "https://oaidalleapiprodscus.blob.core.windows.net/private/org-tm9h6O73pKsKv91hnqBU06K0/user-xmprjtHfrgJW5QpRQya8rda2/img-7xQZ5cLibWuNNf2QSFqBqIC9.png?st=2024-03-20T19%3A39%3A28Z&se=2024-03-20T21%3A39%3A28Z&sp=r&sv=2021-08-06&sr=b&rscd=inline&rsct=image/png&skoid=6aaadede-4fb3-4698-a8f6-684d7786b067&sktid=a48cca56-e6da-484e-a814-9c849652bcb3&skt=2024-03-20T01%3A17%3A28Z&ske=2024-03-21T01%3A17%3A28Z&sks=b&skv=2021-08-06&sig=9m7fQlKIIL5a9NDDfKw/2gn9Td2YsCAMEeg80xs%2BDfw%3D\n"
          ]
        }
      ]
    }
  ]
}